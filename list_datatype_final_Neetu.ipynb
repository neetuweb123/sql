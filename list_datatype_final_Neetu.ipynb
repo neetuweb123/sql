{
 "cells": [
  {
   "cell_type": "markdown",
   "id": "813101dd-ef4f-4d45-8c85-d4cfc54f1af9",
   "metadata": {},
   "source": [
    "## Lists\n",
    "- ordered/sequence collection of elements\n",
    "- indexable/slicing\n",
    "- mutable/Changable\n",
    "- List allow duplicate values.\n",
    "- can store heterogenous elements\n",
    "- represented by []"
   ]
  },
  {
   "cell_type": "code",
   "execution_count": 8,
   "id": "42ca82e2-d2ac-484b-be53-f24e3904c096",
   "metadata": {},
   "outputs": [],
   "source": [
    "# Empty list\n",
    "l = []"
   ]
  },
  {
   "cell_type": "code",
   "execution_count": 9,
   "id": "69ff0685-9839-48f0-8a0a-08614e43e0d0",
   "metadata": {},
   "outputs": [
    {
     "name": "stdout",
     "output_type": "stream",
     "text": [
      "<class 'list'>\n"
     ]
    }
   ],
   "source": [
    "print(type(l))"
   ]
  },
  {
   "cell_type": "code",
   "execution_count": 10,
   "id": "8f230594-8a79-4c1f-9d45-3b1cebb8de7b",
   "metadata": {},
   "outputs": [
    {
     "name": "stdout",
     "output_type": "stream",
     "text": [
      "[]\n"
     ]
    }
   ],
   "source": [
    "print(l)"
   ]
  },
  {
   "cell_type": "code",
   "execution_count": 11,
   "id": "4b2a89f2-aff7-4dfd-a7cf-988d96efb9ff",
   "metadata": {},
   "outputs": [],
   "source": [
    "lst = list()"
   ]
  },
  {
   "cell_type": "code",
   "execution_count": 12,
   "id": "addf7374-8891-4aad-81b1-49b1cc287178",
   "metadata": {},
   "outputs": [
    {
     "name": "stdout",
     "output_type": "stream",
     "text": [
      "<class 'list'>\n"
     ]
    }
   ],
   "source": [
    "print(type(lst))"
   ]
  },
  {
   "cell_type": "code",
   "execution_count": 13,
   "id": "b4873308-ee0f-47f1-81f7-09fb43cf934b",
   "metadata": {},
   "outputs": [
    {
     "name": "stdout",
     "output_type": "stream",
     "text": [
      "[]\n"
     ]
    }
   ],
   "source": [
    "print(lst)"
   ]
  },
  {
   "cell_type": "markdown",
   "id": "b69813a9-01f5-486d-abd8-60cd75f9b0c8",
   "metadata": {},
   "source": [
    "### ordered/sequence collection of elements\n",
    "### can store heterogenous elements\n",
    "### List allow duplicate values"
   ]
  },
  {
   "cell_type": "code",
   "execution_count": 16,
   "id": "281b431b-ec45-4641-8dc7-a5dce787c1dd",
   "metadata": {},
   "outputs": [],
   "source": [
    "lst = ['pooja',38,53.5,True,[4,5,6],3+5j,38]"
   ]
  },
  {
   "cell_type": "code",
   "execution_count": 17,
   "id": "10507a4d-e6b6-43e6-8f70-05ad5044b893",
   "metadata": {},
   "outputs": [
    {
     "name": "stdout",
     "output_type": "stream",
     "text": [
      "['pooja', 38, 53.5, True, [4, 5, 6], (3+5j), 38]\n"
     ]
    }
   ],
   "source": [
    "print(lst)"
   ]
  },
  {
   "cell_type": "markdown",
   "id": "cc77b61d-ec1c-4639-9db6-d5a9b9c77b3f",
   "metadata": {},
   "source": [
    "### Indexing/Slicing of List works same way as Strings"
   ]
  },
  {
   "cell_type": "code",
   "execution_count": 18,
   "id": "95cd3485-ab98-4dc3-a825-37bda44e9416",
   "metadata": {},
   "outputs": [
    {
     "data": {
      "text/plain": [
       "['pooja', 38, 53.5, True, [4, 5, 6], (3+5j), 38]"
      ]
     },
     "execution_count": 18,
     "metadata": {},
     "output_type": "execute_result"
    }
   ],
   "source": [
    "lst"
   ]
  },
  {
   "cell_type": "code",
   "execution_count": 30,
   "id": "f2865715-5819-46d3-8d5b-f2fb5f0bc6ea",
   "metadata": {},
   "outputs": [
    {
     "data": {
      "text/plain": [
       "'POOJA'"
      ]
     },
     "execution_count": 30,
     "metadata": {},
     "output_type": "execute_result"
    }
   ],
   "source": [
    "lst[0].upper()"
   ]
  },
  {
   "cell_type": "code",
   "execution_count": 20,
   "id": "277c9ac1-45de-4632-9756-d3c9d34d8d18",
   "metadata": {},
   "outputs": [
    {
     "data": {
      "text/plain": [
       "38"
      ]
     },
     "execution_count": 20,
     "metadata": {},
     "output_type": "execute_result"
    }
   ],
   "source": [
    "lst[-1]"
   ]
  },
  {
   "cell_type": "code",
   "execution_count": 21,
   "id": "efb07a8a-57ae-45c9-8313-22fbc833d93d",
   "metadata": {},
   "outputs": [
    {
     "data": {
      "text/plain": [
       "True"
      ]
     },
     "execution_count": 21,
     "metadata": {},
     "output_type": "execute_result"
    }
   ],
   "source": [
    "lst[3]"
   ]
  },
  {
   "cell_type": "code",
   "execution_count": 22,
   "id": "f6af9db6-0f89-4abb-9e6a-6fc1bbcc8475",
   "metadata": {},
   "outputs": [
    {
     "data": {
      "text/plain": [
       "2"
      ]
     },
     "execution_count": 22,
     "metadata": {},
     "output_type": "execute_result"
    }
   ],
   "source": [
    "lst.index(53.5)"
   ]
  },
  {
   "cell_type": "code",
   "execution_count": 23,
   "id": "db6dcc17-555b-45ef-8d8c-a5c7c9bc960f",
   "metadata": {},
   "outputs": [
    {
     "data": {
      "text/plain": [
       "53.5"
      ]
     },
     "execution_count": 23,
     "metadata": {},
     "output_type": "execute_result"
    }
   ],
   "source": [
    "lst[2]"
   ]
  },
  {
   "cell_type": "code",
   "execution_count": 25,
   "id": "090dd909-e377-404c-a81d-96872d9ac949",
   "metadata": {},
   "outputs": [
    {
     "data": {
      "text/plain": [
       "6"
      ]
     },
     "execution_count": 25,
     "metadata": {},
     "output_type": "execute_result"
    }
   ],
   "source": [
    "lst.index(38,2)"
   ]
  },
  {
   "cell_type": "code",
   "execution_count": 26,
   "id": "fc21486c-c51d-4d83-9f78-01584d07cc90",
   "metadata": {},
   "outputs": [
    {
     "data": {
      "text/plain": [
       "2"
      ]
     },
     "execution_count": 26,
     "metadata": {},
     "output_type": "execute_result"
    }
   ],
   "source": [
    "lst.count(38)"
   ]
  },
  {
   "cell_type": "code",
   "execution_count": 27,
   "id": "c4802578-d9e1-419a-aca5-21ded4e2bafa",
   "metadata": {},
   "outputs": [
    {
     "data": {
      "text/plain": [
       "['pooja', 38, 53.5, True, [4, 5, 6], (3+5j), 38]"
      ]
     },
     "execution_count": 27,
     "metadata": {},
     "output_type": "execute_result"
    }
   ],
   "source": [
    "lst"
   ]
  },
  {
   "cell_type": "code",
   "execution_count": 29,
   "id": "6be50138-8c92-440c-9497-9c7e39c21dcc",
   "metadata": {},
   "outputs": [
    {
     "data": {
      "text/plain": [
       "5"
      ]
     },
     "execution_count": 29,
     "metadata": {},
     "output_type": "execute_result"
    }
   ],
   "source": [
    "lst[-3][1]"
   ]
  },
  {
   "cell_type": "code",
   "execution_count": 31,
   "id": "4a5baeb1-ee74-473b-8254-e773c0a24f2b",
   "metadata": {},
   "outputs": [
    {
     "data": {
      "text/plain": [
       "['pooja', 38, 53.5, True, [4, 5, 6], (3+5j), 38]"
      ]
     },
     "execution_count": 31,
     "metadata": {},
     "output_type": "execute_result"
    }
   ],
   "source": [
    "lst"
   ]
  },
  {
   "cell_type": "code",
   "execution_count": 32,
   "id": "a6b47a89-b353-4b95-800f-8aea3a02f46e",
   "metadata": {},
   "outputs": [
    {
     "data": {
      "text/plain": [
       "['pooja', 38, 53.5]"
      ]
     },
     "execution_count": 32,
     "metadata": {},
     "output_type": "execute_result"
    }
   ],
   "source": [
    "lst[:3]"
   ]
  },
  {
   "cell_type": "code",
   "execution_count": 33,
   "id": "6f076a77-7b17-4fe7-a093-46473b5c9eee",
   "metadata": {},
   "outputs": [
    {
     "data": {
      "text/plain": [
       "[38, (3+5j), [4, 5, 6], True, 53.5, 38, 'pooja']"
      ]
     },
     "execution_count": 33,
     "metadata": {},
     "output_type": "execute_result"
    }
   ],
   "source": [
    "lst[::-1]"
   ]
  },
  {
   "cell_type": "markdown",
   "id": "79076496-a29f-40a5-8e69-776d733fb9c8",
   "metadata": {},
   "source": [
    "## changing elements:list is mutable"
   ]
  },
  {
   "cell_type": "code",
   "execution_count": 34,
   "id": "5d93f166-2285-40c8-b062-8812a69f50f7",
   "metadata": {},
   "outputs": [
    {
     "data": {
      "text/plain": [
       "['pooja', 38, 53.5, True, [4, 5, 6], (3+5j), 38]"
      ]
     },
     "execution_count": 34,
     "metadata": {},
     "output_type": "execute_result"
    }
   ],
   "source": [
    "lst"
   ]
  },
  {
   "cell_type": "code",
   "execution_count": 36,
   "id": "c42bdaf2-ebac-4371-b757-fca5a53f736b",
   "metadata": {},
   "outputs": [],
   "source": [
    "lst[0] ='Neetu'"
   ]
  },
  {
   "cell_type": "code",
   "execution_count": 37,
   "id": "516c08b9-7a38-4781-98e5-90ddd51a7496",
   "metadata": {},
   "outputs": [
    {
     "data": {
      "text/plain": [
       "['Neetu', 38, 53.5, True, [4, 5, 6], (3+5j), 38]"
      ]
     },
     "execution_count": 37,
     "metadata": {},
     "output_type": "execute_result"
    }
   ],
   "source": [
    "lst"
   ]
  },
  {
   "cell_type": "markdown",
   "id": "064324cc-cdfb-4ddc-8256-010983c7ac15",
   "metadata": {},
   "source": [
    "### append()"
   ]
  },
  {
   "cell_type": "code",
   "execution_count": 38,
   "id": "c9fa7e2d-6f6c-404e-bc10-ea8f6efbad36",
   "metadata": {},
   "outputs": [],
   "source": [
    "lst.append('Python')"
   ]
  },
  {
   "cell_type": "code",
   "execution_count": 39,
   "id": "e8da5a5c-1d3a-4781-bb14-da8e8343e628",
   "metadata": {},
   "outputs": [
    {
     "data": {
      "text/plain": [
       "['Neetu', 38, 53.5, True, [4, 5, 6], (3+5j), 38, 'Python']"
      ]
     },
     "execution_count": 39,
     "metadata": {},
     "output_type": "execute_result"
    }
   ],
   "source": [
    "lst"
   ]
  },
  {
   "cell_type": "code",
   "execution_count": 40,
   "id": "ce24daad-0d3b-49f9-98e9-285fde271bfc",
   "metadata": {},
   "outputs": [],
   "source": [
    "lst.append(['coding','drawing'])"
   ]
  },
  {
   "cell_type": "code",
   "execution_count": 42,
   "id": "07a21355-6b15-413e-82e5-e8c42565de23",
   "metadata": {},
   "outputs": [
    {
     "name": "stdout",
     "output_type": "stream",
     "text": [
      "['Neetu', 38, 53.5, True, [4, 5, 6], (3+5j), 38, 'Python', ['coding', 'drawing']]\n"
     ]
    }
   ],
   "source": [
    "print(lst)"
   ]
  },
  {
   "cell_type": "markdown",
   "id": "88e7ad19-ba7e-4851-b863-925b6adc63c7",
   "metadata": {},
   "source": [
    "### extend()"
   ]
  },
  {
   "cell_type": "code",
   "execution_count": 43,
   "id": "62b530c8-3ff0-4cec-807d-8c72462b019d",
   "metadata": {},
   "outputs": [
    {
     "ename": "TypeError",
     "evalue": "'bool' object is not iterable",
     "output_type": "error",
     "traceback": [
      "\u001b[1;31m---------------------------------------------------------------------------\u001b[0m",
      "\u001b[1;31mTypeError\u001b[0m                                 Traceback (most recent call last)",
      "Cell \u001b[1;32mIn[43], line 1\u001b[0m\n\u001b[1;32m----> 1\u001b[0m lst\u001b[38;5;241m.\u001b[39mextend(\u001b[38;5;28;01mFalse\u001b[39;00m)\n",
      "\u001b[1;31mTypeError\u001b[0m: 'bool' object is not iterable"
     ]
    }
   ],
   "source": [
    "lst.extend(False)"
   ]
  },
  {
   "cell_type": "code",
   "execution_count": 44,
   "id": "781ab2ca-e827-40c7-9ed4-759b0fde62ff",
   "metadata": {},
   "outputs": [],
   "source": [
    "lst.extend(['pooja',38])"
   ]
  },
  {
   "cell_type": "code",
   "execution_count": 45,
   "id": "cda099d3-e35e-403c-ab86-15752900dce2",
   "metadata": {},
   "outputs": [
    {
     "data": {
      "text/plain": [
       "['Neetu',\n",
       " 38,\n",
       " 53.5,\n",
       " True,\n",
       " [4, 5, 6],\n",
       " (3+5j),\n",
       " 38,\n",
       " 'Python',\n",
       " ['coding', 'drawing'],\n",
       " 'pooja',\n",
       " 38]"
      ]
     },
     "execution_count": 45,
     "metadata": {},
     "output_type": "execute_result"
    }
   ],
   "source": [
    "lst"
   ]
  },
  {
   "cell_type": "code",
   "execution_count": 46,
   "id": "1fce5e70-b66e-4a59-b58b-1d9c652bd034",
   "metadata": {},
   "outputs": [],
   "source": [
    "lst.extend('TGC')"
   ]
  },
  {
   "cell_type": "code",
   "execution_count": 47,
   "id": "8c613e47-70aa-478e-a667-cea12446c4b7",
   "metadata": {},
   "outputs": [
    {
     "name": "stdout",
     "output_type": "stream",
     "text": [
      "['Neetu', 38, 53.5, True, [4, 5, 6], (3+5j), 38, 'Python', ['coding', 'drawing'], 'pooja', 38, 'T', 'G', 'C']\n"
     ]
    }
   ],
   "source": [
    "print(lst)"
   ]
  },
  {
   "cell_type": "markdown",
   "id": "30d0afe6-5998-4249-a6e5-c835c5d6b538",
   "metadata": {},
   "source": [
    "### insert()"
   ]
  },
  {
   "cell_type": "code",
   "execution_count": 49,
   "id": "4e4b5525-6bde-4f22-813a-b0d985c3d283",
   "metadata": {},
   "outputs": [
    {
     "name": "stdout",
     "output_type": "stream",
     "text": [
      "['Neetu', 38, 53.5, True, [4, 5, 6], (3+5j), 38, 'Python', ['coding', 'drawing'], 'pooja', 38, 'T', 'G', 'C']\n"
     ]
    }
   ],
   "source": [
    "print(lst)"
   ]
  },
  {
   "cell_type": "code",
   "execution_count": 50,
   "id": "2020e6e5-da0d-4ba4-af76-c71ea0974f3f",
   "metadata": {},
   "outputs": [],
   "source": [
    "lst.insert(2,1000)"
   ]
  },
  {
   "cell_type": "code",
   "execution_count": 51,
   "id": "eda27338-8632-42a5-b5a1-30d6e6a2035b",
   "metadata": {},
   "outputs": [
    {
     "name": "stdout",
     "output_type": "stream",
     "text": [
      "['Neetu', 38, 1000, 53.5, True, [4, 5, 6], (3+5j), 38, 'Python', ['coding', 'drawing'], 'pooja', 38, 'T', 'G', 'C']\n"
     ]
    }
   ],
   "source": [
    "print(lst)"
   ]
  },
  {
   "cell_type": "code",
   "execution_count": 52,
   "id": "549de7e7-6f8d-4c7d-803b-20f68a179adf",
   "metadata": {},
   "outputs": [],
   "source": [
    "lst.insert(-1,'Twinkle')"
   ]
  },
  {
   "cell_type": "code",
   "execution_count": 53,
   "id": "c1a570d2-7a30-41a6-9400-cfa1e46c8a0a",
   "metadata": {},
   "outputs": [
    {
     "name": "stdout",
     "output_type": "stream",
     "text": [
      "['Neetu', 38, 1000, 53.5, True, [4, 5, 6], (3+5j), 38, 'Python', ['coding', 'drawing'], 'pooja', 38, 'T', 'G', 'Twinkle', 'C']\n"
     ]
    }
   ],
   "source": [
    "print(lst)"
   ]
  },
  {
   "cell_type": "markdown",
   "id": "15a404c7-5533-4bc0-bfb7-930f3c542610",
   "metadata": {},
   "source": [
    "### Removing items of list\n",
    "- pop() : pass index ; default index=-1\n",
    "- remove() : pass value\n",
    "- clear()\n",
    "- del keyword"
   ]
  },
  {
   "cell_type": "code",
   "execution_count": 54,
   "id": "72e5f7de-8322-4235-8a96-c9a3f5b20163",
   "metadata": {},
   "outputs": [],
   "source": [
    "lst1 = lst"
   ]
  },
  {
   "cell_type": "code",
   "execution_count": 56,
   "id": "f473b587-6ae9-4694-81af-1b0c3543e0fd",
   "metadata": {},
   "outputs": [
    {
     "data": {
      "text/plain": [
       "True"
      ]
     },
     "execution_count": 56,
     "metadata": {},
     "output_type": "execute_result"
    }
   ],
   "source": [
    "lst1 is lst"
   ]
  },
  {
   "cell_type": "code",
   "execution_count": 58,
   "id": "69f161ea-8063-4690-b6a3-fff313cbd94c",
   "metadata": {},
   "outputs": [
    {
     "data": {
      "text/plain": [
       "1984929569088"
      ]
     },
     "execution_count": 58,
     "metadata": {},
     "output_type": "execute_result"
    }
   ],
   "source": [
    "id(lst1)"
   ]
  },
  {
   "cell_type": "code",
   "execution_count": 59,
   "id": "5288c2ee-6e3c-4d8e-83ca-a1a7b38c4374",
   "metadata": {},
   "outputs": [
    {
     "data": {
      "text/plain": [
       "1984929569088"
      ]
     },
     "execution_count": 59,
     "metadata": {},
     "output_type": "execute_result"
    }
   ],
   "source": [
    "id(lst)"
   ]
  },
  {
   "cell_type": "code",
   "execution_count": 55,
   "id": "4a3f456d-228c-4e50-a0d2-21417fa15479",
   "metadata": {},
   "outputs": [],
   "source": [
    "lst_copy = lst.copy()"
   ]
  },
  {
   "cell_type": "code",
   "execution_count": 57,
   "id": "578bbf25-92fa-41b0-a92b-cfc5dcd9cbaf",
   "metadata": {},
   "outputs": [
    {
     "data": {
      "text/plain": [
       "False"
      ]
     },
     "execution_count": 57,
     "metadata": {},
     "output_type": "execute_result"
    }
   ],
   "source": [
    "lst_copy is lst"
   ]
  },
  {
   "cell_type": "code",
   "execution_count": 60,
   "id": "9c6f223b-da0c-4b9b-9195-25a954bfca5c",
   "metadata": {},
   "outputs": [
    {
     "data": {
      "text/plain": [
       "1984946444288"
      ]
     },
     "execution_count": 60,
     "metadata": {},
     "output_type": "execute_result"
    }
   ],
   "source": [
    "id(lst_copy)"
   ]
  },
  {
   "cell_type": "code",
   "execution_count": 61,
   "id": "76e600fc-76d2-4ec5-bfa0-5694f9aa560f",
   "metadata": {},
   "outputs": [
    {
     "name": "stdout",
     "output_type": "stream",
     "text": [
      "['Neetu', 38, 1000, 53.5, True, [4, 5, 6], (3+5j), 38, 'Python', ['coding', 'drawing'], 'pooja', 38, 'T', 'G', 'Twinkle', 'C']\n"
     ]
    }
   ],
   "source": [
    "print(lst)"
   ]
  },
  {
   "cell_type": "code",
   "execution_count": 62,
   "id": "fbb0fa52-9662-476d-b688-c22d2d0ce64c",
   "metadata": {},
   "outputs": [
    {
     "data": {
      "text/plain": [
       "'C'"
      ]
     },
     "execution_count": 62,
     "metadata": {},
     "output_type": "execute_result"
    }
   ],
   "source": [
    "lst.pop()"
   ]
  },
  {
   "cell_type": "code",
   "execution_count": 63,
   "id": "9870eee0-a525-436f-afe7-b4feb9a25c8c",
   "metadata": {},
   "outputs": [
    {
     "name": "stdout",
     "output_type": "stream",
     "text": [
      "['Neetu', 38, 1000, 53.5, True, [4, 5, 6], (3+5j), 38, 'Python', ['coding', 'drawing'], 'pooja', 38, 'T', 'G', 'Twinkle']\n"
     ]
    }
   ],
   "source": [
    "print(lst)"
   ]
  },
  {
   "cell_type": "code",
   "execution_count": 64,
   "id": "876bf787-9e76-41a3-b624-3c0bc58cf6c4",
   "metadata": {},
   "outputs": [
    {
     "data": {
      "text/plain": [
       "['Neetu',\n",
       " 38,\n",
       " 1000,\n",
       " 53.5,\n",
       " True,\n",
       " [4, 5, 6],\n",
       " (3+5j),\n",
       " 38,\n",
       " 'Python',\n",
       " ['coding', 'drawing'],\n",
       " 'pooja',\n",
       " 38,\n",
       " 'T',\n",
       " 'G',\n",
       " 'Twinkle']"
      ]
     },
     "execution_count": 64,
     "metadata": {},
     "output_type": "execute_result"
    }
   ],
   "source": [
    "lst1"
   ]
  },
  {
   "cell_type": "code",
   "execution_count": 65,
   "id": "06098e47-1cf4-49f6-bb48-f63bd70a7870",
   "metadata": {},
   "outputs": [
    {
     "data": {
      "text/plain": [
       "['Neetu',\n",
       " 38,\n",
       " 1000,\n",
       " 53.5,\n",
       " True,\n",
       " [4, 5, 6],\n",
       " (3+5j),\n",
       " 38,\n",
       " 'Python',\n",
       " ['coding', 'drawing'],\n",
       " 'pooja',\n",
       " 38,\n",
       " 'T',\n",
       " 'G',\n",
       " 'Twinkle',\n",
       " 'C']"
      ]
     },
     "execution_count": 65,
     "metadata": {},
     "output_type": "execute_result"
    }
   ],
   "source": [
    "lst_copy"
   ]
  },
  {
   "cell_type": "code",
   "execution_count": 66,
   "id": "307d27ca-2052-4f6d-9c18-0ced853c63f5",
   "metadata": {},
   "outputs": [
    {
     "data": {
      "text/plain": [
       "1000"
      ]
     },
     "execution_count": 66,
     "metadata": {},
     "output_type": "execute_result"
    }
   ],
   "source": [
    "lst.pop(2)"
   ]
  },
  {
   "cell_type": "code",
   "execution_count": 67,
   "id": "8e4fa466-20ba-42b6-ab5f-f7071b82e6d1",
   "metadata": {},
   "outputs": [
    {
     "name": "stdout",
     "output_type": "stream",
     "text": [
      "['Neetu', 38, 53.5, True, [4, 5, 6], (3+5j), 38, 'Python', ['coding', 'drawing'], 'pooja', 38, 'T', 'G', 'Twinkle']\n"
     ]
    }
   ],
   "source": [
    "print(lst)"
   ]
  },
  {
   "cell_type": "code",
   "execution_count": 68,
   "id": "b73c2de3-1b44-4352-ba80-60f8cbcdc122",
   "metadata": {},
   "outputs": [],
   "source": [
    "lst.remove(38)"
   ]
  },
  {
   "cell_type": "code",
   "execution_count": 69,
   "id": "bcb8e49b-1318-4c0e-a7fa-ae2940e638a7",
   "metadata": {},
   "outputs": [
    {
     "name": "stdout",
     "output_type": "stream",
     "text": [
      "['Neetu', 53.5, True, [4, 5, 6], (3+5j), 38, 'Python', ['coding', 'drawing'], 'pooja', 38, 'T', 'G', 'Twinkle']\n"
     ]
    }
   ],
   "source": [
    "print(lst)"
   ]
  },
  {
   "cell_type": "markdown",
   "id": "e147cc87-b094-4a5d-af17-81ed0cf72b76",
   "metadata": {},
   "source": [
    "### Membership operator: in and not in"
   ]
  },
  {
   "cell_type": "code",
   "execution_count": 71,
   "id": "ed5d9a48-2647-4de2-a986-34974bcfb2c1",
   "metadata": {},
   "outputs": [
    {
     "data": {
      "text/plain": [
       "['Neetu',\n",
       " 53.5,\n",
       " True,\n",
       " [4, 5, 6],\n",
       " (3+5j),\n",
       " 38,\n",
       " 'Python',\n",
       " ['coding', 'drawing'],\n",
       " 'pooja',\n",
       " 38,\n",
       " 'T',\n",
       " 'G',\n",
       " 'Twinkle']"
      ]
     },
     "execution_count": 71,
     "metadata": {},
     "output_type": "execute_result"
    }
   ],
   "source": [
    "lst"
   ]
  },
  {
   "cell_type": "code",
   "execution_count": 73,
   "id": "45431f4d-54e8-43a2-bec6-b268f439b70a",
   "metadata": {},
   "outputs": [
    {
     "data": {
      "text/plain": [
       "False"
      ]
     },
     "execution_count": 73,
     "metadata": {},
     "output_type": "execute_result"
    }
   ],
   "source": [
    "'Neetu1' in lst"
   ]
  },
  {
   "cell_type": "code",
   "execution_count": 74,
   "id": "89b6e474-567d-489c-80e0-a1388d58e18c",
   "metadata": {},
   "outputs": [
    {
     "name": "stdout",
     "output_type": "stream",
     "text": [
      "['Neetu', 53.5, True, [4, 5, 6], (3+5j), 38, 'Python', ['coding', 'drawing'], 'pooja', 38, 'T', 'G', 'Twinkle']\n"
     ]
    }
   ],
   "source": [
    "print(lst)"
   ]
  },
  {
   "cell_type": "code",
   "execution_count": 76,
   "id": "bfd05fc5-0aa4-4f6f-9ddd-f92535c171ff",
   "metadata": {},
   "outputs": [],
   "source": [
    "item = 'T'\n",
    "if item in lst:\n",
    "    lst.remove(item)\n",
    "else:\n",
    "    print(\"Not found\")"
   ]
  },
  {
   "cell_type": "code",
   "execution_count": 77,
   "id": "d08b400f-83e3-4c8f-8218-4faad616126f",
   "metadata": {},
   "outputs": [
    {
     "name": "stdout",
     "output_type": "stream",
     "text": [
      "['Neetu', 53.5, True, [4, 5, 6], (3+5j), 38, 'Python', ['coding', 'drawing'], 'pooja', 38, 'G', 'Twinkle']\n"
     ]
    }
   ],
   "source": [
    "print(lst)"
   ]
  },
  {
   "cell_type": "code",
   "execution_count": 78,
   "id": "ea613408-9d52-4433-bb62-c503131e608d",
   "metadata": {},
   "outputs": [],
   "source": [
    "lst.clear()"
   ]
  },
  {
   "cell_type": "code",
   "execution_count": 80,
   "id": "56585620-365f-4c5d-8c7d-2ffc4694e3a7",
   "metadata": {},
   "outputs": [
    {
     "data": {
      "text/plain": [
       "[]"
      ]
     },
     "execution_count": 80,
     "metadata": {},
     "output_type": "execute_result"
    }
   ],
   "source": [
    "lst"
   ]
  },
  {
   "cell_type": "code",
   "execution_count": 81,
   "id": "eb0547b4-2679-41ad-ad6d-92dff5501497",
   "metadata": {},
   "outputs": [],
   "source": [
    "del lst"
   ]
  },
  {
   "cell_type": "code",
   "execution_count": 82,
   "id": "ddf3da37-748d-46b1-833a-8ea753973975",
   "metadata": {},
   "outputs": [
    {
     "ename": "NameError",
     "evalue": "name 'lst' is not defined",
     "output_type": "error",
     "traceback": [
      "\u001b[1;31m---------------------------------------------------------------------------\u001b[0m",
      "\u001b[1;31mNameError\u001b[0m                                 Traceback (most recent call last)",
      "Cell \u001b[1;32mIn[82], line 1\u001b[0m\n\u001b[1;32m----> 1\u001b[0m lst\n",
      "\u001b[1;31mNameError\u001b[0m: name 'lst' is not defined"
     ]
    }
   ],
   "source": [
    "lst"
   ]
  },
  {
   "cell_type": "code",
   "execution_count": 84,
   "id": "b9c38b49-183e-4a1a-9d85-b617b726515a",
   "metadata": {},
   "outputs": [],
   "source": [
    "a = 100"
   ]
  },
  {
   "cell_type": "code",
   "execution_count": 85,
   "id": "aadaca93-760e-4bf5-a4b0-6153e182e410",
   "metadata": {},
   "outputs": [
    {
     "data": {
      "text/plain": [
       "100"
      ]
     },
     "execution_count": 85,
     "metadata": {},
     "output_type": "execute_result"
    }
   ],
   "source": [
    "a"
   ]
  },
  {
   "cell_type": "code",
   "execution_count": 86,
   "id": "1f37fd29-5ffd-4ed3-bad9-21d330bd7cd6",
   "metadata": {},
   "outputs": [],
   "source": [
    "del a"
   ]
  },
  {
   "cell_type": "code",
   "execution_count": 87,
   "id": "adfde251-2e4e-4dc0-b844-a464af9bda0c",
   "metadata": {},
   "outputs": [
    {
     "ename": "NameError",
     "evalue": "name 'a' is not defined",
     "output_type": "error",
     "traceback": [
      "\u001b[1;31m---------------------------------------------------------------------------\u001b[0m",
      "\u001b[1;31mNameError\u001b[0m                                 Traceback (most recent call last)",
      "Cell \u001b[1;32mIn[87], line 1\u001b[0m\n\u001b[1;32m----> 1\u001b[0m a\n",
      "\u001b[1;31mNameError\u001b[0m: name 'a' is not defined"
     ]
    }
   ],
   "source": [
    "a"
   ]
  },
  {
   "cell_type": "markdown",
   "id": "830d8e54-748d-4857-8edc-e4446ec1cf8d",
   "metadata": {},
   "source": [
    "## len(): to find the no of items in lst"
   ]
  },
  {
   "cell_type": "code",
   "execution_count": 88,
   "id": "057a68a4-c647-4203-92a0-1ec2d2bdaa82",
   "metadata": {},
   "outputs": [
    {
     "data": {
      "text/plain": [
       "['Neetu',\n",
       " 38,\n",
       " 1000,\n",
       " 53.5,\n",
       " True,\n",
       " [4, 5, 6],\n",
       " (3+5j),\n",
       " 38,\n",
       " 'Python',\n",
       " ['coding', 'drawing'],\n",
       " 'pooja',\n",
       " 38,\n",
       " 'T',\n",
       " 'G',\n",
       " 'Twinkle',\n",
       " 'C']"
      ]
     },
     "execution_count": 88,
     "metadata": {},
     "output_type": "execute_result"
    }
   ],
   "source": [
    "lst_copy"
   ]
  },
  {
   "cell_type": "code",
   "execution_count": 89,
   "id": "1f829cd8-6f50-4079-8fde-e34fee008c13",
   "metadata": {},
   "outputs": [
    {
     "data": {
      "text/plain": [
       "16"
      ]
     },
     "execution_count": 89,
     "metadata": {},
     "output_type": "execute_result"
    }
   ],
   "source": [
    "len(lst_copy)"
   ]
  },
  {
   "cell_type": "markdown",
   "id": "083fe255-2938-4f70-b99f-d1f4d5f36162",
   "metadata": {},
   "source": [
    "## Some Important Methods for lists\n",
    "- reverse\n",
    "- sort"
   ]
  },
  {
   "cell_type": "code",
   "execution_count": 91,
   "id": "5dcb3fb6-d7e7-49df-a9d1-53d0d8b3689b",
   "metadata": {},
   "outputs": [],
   "source": [
    "lst = [3,4,5,\"pooja\",True]"
   ]
  },
  {
   "cell_type": "code",
   "execution_count": 92,
   "id": "8ae47f13-b060-4941-80e8-791f6e4bf4a9",
   "metadata": {},
   "outputs": [
    {
     "data": {
      "text/plain": [
       "[True, 'pooja', 5, 4, 3]"
      ]
     },
     "execution_count": 92,
     "metadata": {},
     "output_type": "execute_result"
    }
   ],
   "source": [
    "lst[::-1]"
   ]
  },
  {
   "cell_type": "code",
   "execution_count": 94,
   "id": "a81c9025-9d7c-4d18-a239-248971afe27b",
   "metadata": {},
   "outputs": [],
   "source": [
    "lst.reverse()"
   ]
  },
  {
   "cell_type": "code",
   "execution_count": 95,
   "id": "4e63fbd3-6797-46b4-a2a9-ca0db387edc3",
   "metadata": {},
   "outputs": [
    {
     "data": {
      "text/plain": [
       "[True, 'pooja', 5, 4, 3]"
      ]
     },
     "execution_count": 95,
     "metadata": {},
     "output_type": "execute_result"
    }
   ],
   "source": [
    "lst"
   ]
  },
  {
   "cell_type": "code",
   "execution_count": 96,
   "id": "a3550a32-cfa2-4519-8a47-79ed3c8a0775",
   "metadata": {},
   "outputs": [
    {
     "ename": "TypeError",
     "evalue": "'<' not supported between instances of 'str' and 'bool'",
     "output_type": "error",
     "traceback": [
      "\u001b[1;31m---------------------------------------------------------------------------\u001b[0m",
      "\u001b[1;31mTypeError\u001b[0m                                 Traceback (most recent call last)",
      "Cell \u001b[1;32mIn[96], line 1\u001b[0m\n\u001b[1;32m----> 1\u001b[0m lst\u001b[38;5;241m.\u001b[39msort()\n",
      "\u001b[1;31mTypeError\u001b[0m: '<' not supported between instances of 'str' and 'bool'"
     ]
    }
   ],
   "source": [
    "lst.sort()"
   ]
  },
  {
   "cell_type": "code",
   "execution_count": 97,
   "id": "c2777e01-3948-45b4-b78d-89bbd8f6b368",
   "metadata": {},
   "outputs": [],
   "source": [
    "lst = [5,6,10,2,17]"
   ]
  },
  {
   "cell_type": "code",
   "execution_count": 100,
   "id": "30471d5a-d7e1-41f0-938f-23e483733307",
   "metadata": {},
   "outputs": [],
   "source": [
    "lst.sort(reverse=True)"
   ]
  },
  {
   "cell_type": "code",
   "execution_count": 101,
   "id": "bb4912a1-63ab-474d-ba20-be7ded5fb945",
   "metadata": {},
   "outputs": [
    {
     "data": {
      "text/plain": [
       "[17, 10, 6, 5, 2]"
      ]
     },
     "execution_count": 101,
     "metadata": {},
     "output_type": "execute_result"
    }
   ],
   "source": [
    "lst"
   ]
  },
  {
   "cell_type": "code",
   "execution_count": 107,
   "id": "e4bd8590-fe43-446c-8102-97b7aa51ea79",
   "metadata": {},
   "outputs": [],
   "source": [
    "l = ['pooja','nandan','ashish','abhay','madhav','neetu']"
   ]
  },
  {
   "cell_type": "code",
   "execution_count": 110,
   "id": "ce50ffed-379d-4782-ad68-cbfd6654a072",
   "metadata": {},
   "outputs": [],
   "source": [
    "l.sort(reverse=True)"
   ]
  },
  {
   "cell_type": "code",
   "execution_count": 111,
   "id": "c4292e1a-4521-4463-bfdb-2795b6c835b7",
   "metadata": {},
   "outputs": [
    {
     "data": {
      "text/plain": [
       "['pooja', 'neetu', 'nandan', 'madhav', 'ashish', 'abhay']"
      ]
     },
     "execution_count": 111,
     "metadata": {},
     "output_type": "execute_result"
    }
   ],
   "source": [
    "l"
   ]
  },
  {
   "cell_type": "code",
   "execution_count": 112,
   "id": "4cd0fc76-9e77-462c-8ead-8b49bbf79c2d",
   "metadata": {},
   "outputs": [
    {
     "data": {
      "text/plain": [
       "['pooja', 'neetu', 'abhay', 'nandan', 'madhav', 'ashish']"
      ]
     },
     "execution_count": 112,
     "metadata": {},
     "output_type": "execute_result"
    }
   ],
   "source": [
    "l.sort(key=len)\n",
    "l"
   ]
  },
  {
   "cell_type": "code",
   "execution_count": null,
   "id": "e3a45601-bf25-4bb7-9609-cda5e0c592b9",
   "metadata": {},
   "outputs": [],
   "source": []
  },
  {
   "cell_type": "code",
   "execution_count": null,
   "id": "879b3fca-2a94-488e-a2ba-ab3024498927",
   "metadata": {},
   "outputs": [],
   "source": []
  },
  {
   "cell_type": "code",
   "execution_count": null,
   "id": "c9356236-0e96-434e-a1c5-9ba906a0914f",
   "metadata": {},
   "outputs": [],
   "source": []
  },
  {
   "cell_type": "markdown",
   "id": "2a0fcc17-06b4-4e9c-9a8e-3f772f360981",
   "metadata": {},
   "source": [
    "## Operation on list"
   ]
  },
  {
   "cell_type": "code",
   "execution_count": 129,
   "id": "5f6ebf5c-f3f6-4f03-b2cf-bbcf765164f4",
   "metadata": {},
   "outputs": [
    {
     "data": {
      "text/plain": [
       "[17, 10, 6, 5, 2]"
      ]
     },
     "execution_count": 129,
     "metadata": {},
     "output_type": "execute_result"
    }
   ],
   "source": [
    "lst = [17, 10, 6, 5, 2]\n"
   ]
  },
  {
   "cell_type": "code",
   "execution_count": 132,
   "id": "a9488687-67df-4999-bdd5-366cc5b44bd3",
   "metadata": {},
   "outputs": [
    {
     "data": {
      "text/plain": [
       "[17, 10, 6, 5, 2]"
      ]
     },
     "execution_count": 132,
     "metadata": {},
     "output_type": "execute_result"
    }
   ],
   "source": [
    "lst"
   ]
  },
  {
   "cell_type": "code",
   "execution_count": 130,
   "id": "06b5b6b3-a94e-4c92-8bfb-fd226f75a40f",
   "metadata": {},
   "outputs": [
    {
     "data": {
      "text/plain": [
       "['pooja', 'neetu', 'abhay', 'nandan', 'madhav', 'ashish']"
      ]
     },
     "execution_count": 130,
     "metadata": {},
     "output_type": "execute_result"
    }
   ],
   "source": [
    "l"
   ]
  },
  {
   "cell_type": "code",
   "execution_count": 131,
   "id": "2bd1d4e5-4079-47c2-bc1a-baf58f0ba982",
   "metadata": {},
   "outputs": [
    {
     "name": "stdout",
     "output_type": "stream",
     "text": [
      "[17, 10, 6, 5, 2, 'pooja', 'neetu', 'abhay', 'nandan', 'madhav', 'ashish']\n"
     ]
    }
   ],
   "source": [
    "print(lst + l)"
   ]
  },
  {
   "cell_type": "code",
   "execution_count": 133,
   "id": "a59dacf5-4909-4284-be0f-ac5def24eacf",
   "metadata": {},
   "outputs": [],
   "source": [
    "lst.extend(l)"
   ]
  },
  {
   "cell_type": "code",
   "execution_count": 134,
   "id": "7a81b92a-80ee-4b03-82e2-84f92e99fe36",
   "metadata": {},
   "outputs": [
    {
     "data": {
      "text/plain": [
       "[17, 10, 6, 5, 2, 'pooja', 'neetu', 'abhay', 'nandan', 'madhav', 'ashish']"
      ]
     },
     "execution_count": 134,
     "metadata": {},
     "output_type": "execute_result"
    }
   ],
   "source": [
    "lst"
   ]
  },
  {
   "cell_type": "code",
   "execution_count": null,
   "id": "d8481624-dc2e-450b-95ce-1c58596a7d58",
   "metadata": {},
   "outputs": [],
   "source": []
  },
  {
   "cell_type": "markdown",
   "id": "5c79e5bb-80dd-45ab-b32d-e38da627d2eb",
   "metadata": {},
   "source": [
    "## MultiDimensional Lists"
   ]
  },
  {
   "cell_type": "code",
   "execution_count": 136,
   "id": "3b0a22e7-34a5-4714-8b9e-90a5b13315e3",
   "metadata": {},
   "outputs": [],
   "source": [
    "student = [['pooja',38,[90,87,95]],['ashish',21,[98,86,93]],['neetu',20,[90,93,95]]]"
   ]
  },
  {
   "cell_type": "code",
   "execution_count": 137,
   "id": "669f7a42-e5d2-4e16-a2a1-eb2594e6ecb8",
   "metadata": {},
   "outputs": [
    {
     "data": {
      "text/plain": [
       "3"
      ]
     },
     "execution_count": 137,
     "metadata": {},
     "output_type": "execute_result"
    }
   ],
   "source": [
    "len(student)"
   ]
  },
  {
   "cell_type": "code",
   "execution_count": 148,
   "id": "96610621-bf52-4a3a-bb3c-c98dcaa69b9d",
   "metadata": {},
   "outputs": [
    {
     "name": "stdin",
     "output_type": "stream",
     "text": [
      "Enter the roll no 2\n"
     ]
    },
    {
     "name": "stdout",
     "output_type": "stream",
     "text": [
      "Name: ASHISH\n",
      "Age: 21years\n",
      "Maths_marks: 98\n",
      "Science_marks: 86\n",
      "English_marks: 93\n",
      "Total_marks: 277\n",
      "Percentage_scored:92.33%\n"
     ]
    }
   ],
   "source": [
    "roll_no = int(input(\"Enter the roll no\"))\n",
    "\n",
    "print(f\"Name: {student[roll_no-1][0].upper()}\\nAge: {student[roll_no-1][1]}years\\nMaths_marks: {student[roll_no-1][2][0]}\\\n",
    "\\nScience_marks: {student[roll_no-1][2][1]}\\nEnglish_marks: {student[roll_no-1][2][2]}\\nTotal_marks: \\\n",
    "{student[roll_no-1][2][0] +student[roll_no-1][2][1]+student[roll_no-1][2][2]}\\nPercentage_scored:\\\n",
    "{(student[roll_no-1][2][0] +student[roll_no-1][2][1]+student[roll_no-1][2][2])/300:.2%}\")"
   ]
  },
  {
   "cell_type": "code",
   "execution_count": 141,
   "id": "bc4a87e6-47ed-4888-a63e-070af2afcc4e",
   "metadata": {},
   "outputs": [
    {
     "data": {
      "text/plain": [
       "[98, 86, 93]"
      ]
     },
     "execution_count": 141,
     "metadata": {},
     "output_type": "execute_result"
    }
   ],
   "source": [
    "student[1][2]"
   ]
  },
  {
   "cell_type": "markdown",
   "id": "559389f3-53d5-4f98-a840-79fd363771e0",
   "metadata": {},
   "source": [
    "## user input of numerical and string list"
   ]
  },
  {
   "cell_type": "code",
   "execution_count": 149,
   "id": "42f381be-5df3-4f36-b852-1363b757e21b",
   "metadata": {},
   "outputs": [
    {
     "name": "stdin",
     "output_type": "stream",
     "text": [
      "Enter the marks of 5 subjects:: 90,92,94,90,96\n"
     ]
    }
   ],
   "source": [
    "marks = list(map(int,input(\"Enter the marks of 5 subjects::\").split(\",\")))"
   ]
  },
  {
   "cell_type": "code",
   "execution_count": 150,
   "id": "bd2d9213-814d-45a9-be4f-a07debe051ca",
   "metadata": {},
   "outputs": [
    {
     "data": {
      "text/plain": [
       "[90, 92, 94, 90, 96]"
      ]
     },
     "execution_count": 150,
     "metadata": {},
     "output_type": "execute_result"
    }
   ],
   "source": [
    "marks"
   ]
  },
  {
   "cell_type": "code",
   "execution_count": 153,
   "id": "256621a3-f23d-483e-9726-cb6f4b69b937",
   "metadata": {},
   "outputs": [
    {
     "name": "stdin",
     "output_type": "stream",
     "text": [
      "Enter the names:: pooja,neetu,ashish,abhay,madhav\n"
     ]
    }
   ],
   "source": [
    "names = input(\"Enter the names::\").split(\",\")"
   ]
  },
  {
   "cell_type": "code",
   "execution_count": 152,
   "id": "aed64a86-4f6f-470e-b835-80a1ab226fd7",
   "metadata": {},
   "outputs": [
    {
     "data": {
      "text/plain": [
       "['pooja', 'neetu', 'ashish', 'abhay', 'madhav']"
      ]
     },
     "execution_count": 152,
     "metadata": {},
     "output_type": "execute_result"
    }
   ],
   "source": [
    "\"pooja,neetu,ashish,abhay,madhav\".split(\",\")"
   ]
  },
  {
   "cell_type": "code",
   "execution_count": 154,
   "id": "327759ae-fa00-42d5-8cea-59b646b162ea",
   "metadata": {},
   "outputs": [
    {
     "data": {
      "text/plain": [
       "['pooja', 'neetu', 'ashish', 'abhay', 'madhav']"
      ]
     },
     "execution_count": 154,
     "metadata": {},
     "output_type": "execute_result"
    }
   ],
   "source": [
    "names"
   ]
  },
  {
   "cell_type": "markdown",
   "id": "435c184d-4f98-459f-98b1-564c9e68a48f",
   "metadata": {},
   "source": [
    "## while loop through list"
   ]
  },
  {
   "cell_type": "code",
   "execution_count": 158,
   "id": "5d5e6dec-11ca-4c4f-b747-848bec5c9911",
   "metadata": {},
   "outputs": [
    {
     "name": "stdout",
     "output_type": "stream",
     "text": [
      "a) pooja\n",
      "b) neetu\n",
      "c) ashish\n",
      "d) abhay\n",
      "e) madhav\n"
     ]
    }
   ],
   "source": [
    "i =0\n",
    "while i<len(names):\n",
    "    print(f\"{chr(i+97)}) {names[i]}\")\n",
    "    i +=1"
   ]
  },
  {
   "cell_type": "code",
   "execution_count": 160,
   "id": "2b4fdf41-787e-46bc-8a2f-80570e2c58f0",
   "metadata": {},
   "outputs": [
    {
     "name": "stdout",
     "output_type": "stream",
     "text": [
      "a) Pooja\n",
      "b) Neetu\n",
      "c) Ashish\n",
      "d) Abhay\n",
      "e) Madhav\n"
     ]
    }
   ],
   "source": [
    "i =0\n",
    "k = 97\n",
    "while i<len(names):\n",
    "    print(f\"{chr(k)}) {names[i].capitalize()}\")\n",
    "    i +=1\n",
    "    k +=1"
   ]
  },
  {
   "cell_type": "code",
   "execution_count": 161,
   "id": "8bff18ef-6926-42da-afd0-6e127e7953a9",
   "metadata": {},
   "outputs": [
    {
     "data": {
      "text/plain": [
       "[90, 92, 94, 90, 96]"
      ]
     },
     "execution_count": 161,
     "metadata": {},
     "output_type": "execute_result"
    }
   ],
   "source": [
    "marks"
   ]
  },
  {
   "cell_type": "code",
   "execution_count": 166,
   "id": "4483a83a-34b9-4d99-a94d-5c529b1a3343",
   "metadata": {},
   "outputs": [
    {
     "name": "stdout",
     "output_type": "stream",
     "text": [
      "Percentage scored: 92.40%\n"
     ]
    }
   ],
   "source": [
    "i =0 \n",
    "_sum = 0\n",
    "while i<len(marks):\n",
    "    _sum += marks[i]\n",
    "    i +=1\n",
    "\n",
    "percentage = _sum/len(marks)\n",
    "print(f\"Percentage scored: {percentage:.2f}%\")"
   ]
  },
  {
   "cell_type": "code",
   "execution_count": 163,
   "id": "759f5d01-3a7b-47f8-bc42-e78e05aa86b4",
   "metadata": {},
   "outputs": [
    {
     "data": {
      "text/plain": [
       "92.4"
      ]
     },
     "execution_count": 163,
     "metadata": {},
     "output_type": "execute_result"
    }
   ],
   "source": [
    "percentage"
   ]
  },
  {
   "cell_type": "code",
   "execution_count": 167,
   "id": "0b2cd85e-504d-4dd8-adf0-4ef2ab3ff329",
   "metadata": {},
   "outputs": [
    {
     "name": "stdin",
     "output_type": "stream",
     "text": [
      "Enter the numbers:: 13,10,11,5,7,8,14,10,17\n"
     ]
    },
    {
     "name": "stdout",
     "output_type": "stream",
     "text": [
      "Even list: [10, 8, 14, 10]\n",
      "Odd list: [13, 11, 5, 7, 17]\n"
     ]
    }
   ],
   "source": [
    "numbers = list(map(int,input(\"Enter the numbers::\").split(\",\")))\n",
    "even =[]\n",
    "odd=[]\n",
    "i = 0\n",
    "while i <len(numbers):\n",
    "    if numbers[i]%2 ==0:\n",
    "        even.append(numbers[i])\n",
    "    else:\n",
    "        odd.append(numbers[i])\n",
    "\n",
    "    i+=1\n",
    "\n",
    "print(f\"Even list: {even}\\nOdd list: {odd}\")"
   ]
  },
  {
   "cell_type": "raw",
   "id": "41ecdbcc-9864-422d-9202-f17c7a47f1fb",
   "metadata": {},
   "source": [
    "1: Concatenate two lists index-wise\n",
    "Given:\n",
    "list1 = [\"M\", \"na\", \"i\", \"Ke\"]\n",
    "list2 = [\"y\", \"me\", \"s\", \"lly\"]\n",
    "Expected output: ['My', 'name', 'is', 'Kelly']"
   ]
  },
  {
   "cell_type": "code",
   "execution_count": 168,
   "id": "12964ec4-b383-49d1-98d5-4765bc2b16ec",
   "metadata": {},
   "outputs": [
    {
     "name": "stdout",
     "output_type": "stream",
     "text": [
      "['My', 'name', 'is', 'Kelly']\n"
     ]
    }
   ],
   "source": [
    "list1 = [\"M\", \"na\", \"i\", \"Ke\"]\n",
    "list2 = [\"y\", \"me\", \"s\", \"lly\"]\n",
    "i = 0\n",
    "final = []\n",
    "while i <len(list1):\n",
    "    final.append(list1[i]+list2[i])\n",
    "    i += 1\n",
    "print(final)"
   ]
  },
  {
   "cell_type": "code",
   "execution_count": null,
   "id": "6461d806-0617-4ebd-9da9-51ee0362e15e",
   "metadata": {},
   "outputs": [],
   "source": []
  },
  {
   "cell_type": "code",
   "execution_count": null,
   "id": "346a3fe4-6132-4ac3-a0e0-55d8f4cbe32f",
   "metadata": {},
   "outputs": [],
   "source": []
  },
  {
   "cell_type": "markdown",
   "id": "6812d205-84c7-4da1-9dba-2705473f0322",
   "metadata": {},
   "source": [
    "## for loop through list"
   ]
  },
  {
   "cell_type": "markdown",
   "id": "a337f8a2-51a6-48be-9be9-8b1c14f58f2d",
   "metadata": {},
   "source": [
    "### Create a list of your favorite fruits and use a for loop to print a sentence for each fruit, e.g., \"I like apples.\""
   ]
  },
  {
   "cell_type": "code",
   "execution_count": 6,
   "id": "c536e1c2-acd8-4704-83cd-f11a12f5fd3a",
   "metadata": {},
   "outputs": [
    {
     "name": "stdin",
     "output_type": "stream",
     "text": [
      "Enter the ur favourite fruits name::: apple,   mango\n"
     ]
    },
    {
     "name": "stdout",
     "output_type": "stream",
     "text": [
      "I like Apple\n",
      "I like Mango\n"
     ]
    }
   ],
   "source": [
    "fruits = input(\"Enter the ur favourite fruits name:::\").split(\",\")\n",
    "\n",
    "for fruit in fruits:\n",
    "    print(f\"I like {fruit.strip().capitalize()}\")"
   ]
  },
  {
   "cell_type": "code",
   "execution_count": 5,
   "id": "776b05fa-601c-4ee0-a64c-f38ef1a32bc2",
   "metadata": {},
   "outputs": [
    {
     "data": {
      "text/plain": [
       "'Mango'"
      ]
     },
     "execution_count": 5,
     "metadata": {},
     "output_type": "execute_result"
    }
   ],
   "source": [
    "'   mango'.strip().capitalize()"
   ]
  },
  {
   "cell_type": "markdown",
   "id": "5761a651-ba1a-4144-80af-e5474ba9af03",
   "metadata": {},
   "source": [
    "### Use a for loop to find the maximum value in a list:"
   ]
  },
  {
   "cell_type": "code",
   "execution_count": 7,
   "id": "91495b63-ee44-4c9a-9fce-c0b2145ab1a9",
   "metadata": {},
   "outputs": [
    {
     "name": "stdin",
     "output_type": "stream",
     "text": [
      "Enter the items::: 30,10,45,100,3,48\n"
     ]
    },
    {
     "name": "stdout",
     "output_type": "stream",
     "text": [
      "Maximum value is 100\n"
     ]
    }
   ],
   "source": [
    "numbers = list(map(int,input(\"Enter the items:::\").split(\",\")))\n",
    "_max =0\n",
    "for i in range(len(numbers)):\n",
    "    if _max < numbers[i]:\n",
    "        _max = numbers[i]\n",
    "print(f\"Maximum value is {_max}\")"
   ]
  },
  {
   "cell_type": "code",
   "execution_count": 8,
   "id": "506a0955-ad90-4954-b05d-4ac1a0d77e62",
   "metadata": {},
   "outputs": [
    {
     "name": "stdin",
     "output_type": "stream",
     "text": [
      "Enter the items::: 56,8,25,60,24,89,68\n"
     ]
    },
    {
     "name": "stdout",
     "output_type": "stream",
     "text": [
      "Maximum value is 89\n"
     ]
    }
   ],
   "source": [
    "numbers = list(map(int,input(\"Enter the items:::\").split(\",\")))\n",
    "_max =0\n",
    "for num in numbers:\n",
    "    if _max < num:\n",
    "        _max = num\n",
    "print(f\"Maximum value is {_max}\")"
   ]
  },
  {
   "cell_type": "code",
   "execution_count": 13,
   "id": "65922e21-0a8a-4b59-8217-3f8775a49e41",
   "metadata": {},
   "outputs": [
    {
     "name": "stdout",
     "output_type": "stream",
     "text": [
      "Charlie\n",
      "Bob\n",
      "Alice\n"
     ]
    }
   ],
   "source": [
    "# Write a for loop to reverse a list without using the reverse() method:\n",
    "\n",
    "names = [\"Alice\", \"Bob\", \"Charlie\"]\n",
    "'''for ele in names[::-1]:\n",
    "    print(ele)'''\n",
    "\n",
    "\"\"\"for i in range(-1,-(len(names)+1),-1):\n",
    "    print(names[i])\"\"\"\n",
    "\n",
    "\n"
   ]
  },
  {
   "cell_type": "code",
   "execution_count": 16,
   "id": "1c1f244f-1742-4370-b997-38d8d2fe20d6",
   "metadata": {},
   "outputs": [
    {
     "name": "stdout",
     "output_type": "stream",
     "text": [
      "4 times 7 appears in the given list.\n"
     ]
    }
   ],
   "source": [
    "# Use a for loop to count how many times the number 7 appears in a list:\n",
    "numbers = [7, 4, 7, 1, 7, 3,7]\n",
    "count = 0\n",
    "for ele in numbers:\n",
    "    if ele == 7:\n",
    "        count += 1\n",
    "\n",
    "print(f\"{count} times 7 appears in the given list.\")"
   ]
  },
  {
   "cell_type": "code",
   "execution_count": 12,
   "id": "cc7413a2-d04d-40e3-b6f2-df8e9c891fce",
   "metadata": {},
   "outputs": [
    {
     "data": {
      "text/plain": [
       "['Charlie', 'Bob', 'Alice']"
      ]
     },
     "execution_count": 12,
     "metadata": {},
     "output_type": "execute_result"
    }
   ],
   "source": [
    "names[::-1]"
   ]
  },
  {
   "cell_type": "code",
   "execution_count": 21,
   "id": "99f4f802-ff01-48ee-9b33-0fbc3f689ff5",
   "metadata": {},
   "outputs": [
    {
     "name": "stdout",
     "output_type": "stream",
     "text": [
      "2x1 = 2\n",
      "2x2 = 4\n",
      "2x3 = 6\n",
      "2x4 = 8\n",
      "2x5 = 10\n",
      "2x6 = 12\n",
      "2x7 = 14\n",
      "2x8 = 16\n",
      "2x9 = 18\n",
      "2x10 = 20\n",
      "******************** \n",
      "\n",
      "7x1 = 7\n",
      "7x2 = 14\n",
      "7x3 = 21\n",
      "7x4 = 28\n",
      "7x5 = 35\n",
      "7x6 = 42\n",
      "7x7 = 49\n",
      "7x8 = 56\n",
      "7x9 = 63\n",
      "7x10 = 70\n",
      "******************** \n",
      "\n",
      "5x1 = 5\n",
      "5x2 = 10\n",
      "5x3 = 15\n",
      "5x4 = 20\n",
      "5x5 = 25\n",
      "5x6 = 30\n",
      "5x7 = 35\n",
      "5x8 = 40\n",
      "5x9 = 45\n",
      "5x10 = 50\n",
      "******************** \n",
      "\n"
     ]
    }
   ],
   "source": [
    "# Use a nested for loop to create a multiplication table for numbers in the list:\n",
    "nums = [2, 7, 5]\n",
    "\n",
    "for n in nums:\n",
    "    for i in range(1,11):\n",
    "        print(f\"{n}x{i} = {n*i}\")\n",
    "    print(\"*\"*20,\"\\n\")"
   ]
  },
  {
   "cell_type": "code",
   "execution_count": 30,
   "id": "b201b0d2-9c0c-4746-9325-b1793a752cd9",
   "metadata": {},
   "outputs": [
    {
     "name": "stdout",
     "output_type": "stream",
     "text": [
      "2x1 = 2       7x1 = 7       5x1 = 5       3x1 = 3       \n",
      "2x2 = 4       7x2 = 14      5x2 = 10      3x2 = 6       \n",
      "2x3 = 6       7x3 = 21      5x3 = 15      3x3 = 9       \n",
      "2x4 = 8       7x4 = 28      5x4 = 20      3x4 = 12      \n",
      "2x5 = 10      7x5 = 35      5x5 = 25      3x5 = 15      \n",
      "2x6 = 12      7x6 = 42      5x6 = 30      3x6 = 18      \n",
      "2x7 = 14      7x7 = 49      5x7 = 35      3x7 = 21      \n",
      "2x8 = 16      7x8 = 56      5x8 = 40      3x8 = 24      \n",
      "2x9 = 18      7x9 = 63      5x9 = 45      3x9 = 27      \n",
      "2x10 = 20     7x10 = 70     5x10 = 50     3x10 = 30     \n"
     ]
    }
   ],
   "source": [
    "nums = [2, 7, 5,3]\n",
    "for i in range(1,11):\n",
    "        for n in nums:\n",
    "            print(f\"{n}x{i} = {n*i}\".ljust(10),end=\"    \")\n",
    "            \n",
    "        print(\"\")\n",
    "    "
   ]
  },
  {
   "cell_type": "code",
   "execution_count": 52,
   "id": "5ed5b2f6-05a6-4201-9093-ab40f208c68c",
   "metadata": {},
   "outputs": [
    {
     "name": "stdout",
     "output_type": "stream",
     "text": [
      "WORD            |  LENGTH  \n",
      "-------------------------\n",
      "Python          | 6         \n",
      "Loop            | 4         \n",
      "List            | 4         \n",
      "Comprehension   | 13        \n",
      "string          | 6         \n"
     ]
    }
   ],
   "source": [
    "# Given a list of strings, write a for loop to create a new list with the lengths of each string:\n",
    "words = [\"Python\", \"Loop\", \"List\", \"Comprehension\",\"string\"]\n",
    "length=[]\n",
    "for word in words:\n",
    "    length.append(len(word))\n",
    "\n",
    "print(\"WORD\".ljust(16),\"|\",\"LENGTH\".center(10),\"\\n\",\"-\"*25,sep=\"\")\n",
    "for i in range(len(words)):\n",
    "    print(words[i].ljust(15),\"|\",str(length[i]).ljust(10))"
   ]
  },
  {
   "cell_type": "code",
   "execution_count": null,
   "id": "1732dbff-60d7-44b7-acaf-cb5664db8be1",
   "metadata": {},
   "outputs": [],
   "source": []
  },
  {
   "cell_type": "markdown",
   "id": "add98c75-dc1a-4346-b893-348c2346772d",
   "metadata": {},
   "source": [
    "## list comprehension"
   ]
  },
  {
   "cell_type": "markdown",
   "id": "25c161e7-7605-467c-a04d-a12541c514ed",
   "metadata": {},
   "source": [
    "## List Comprehension\n",
    "List comprehension offers a shorter syntax when you want to create a new list based on the values of an existing list.\n",
    "\n",
    "https://www.w3schools.com/python/python_lists_comprehension.asp"
   ]
  },
  {
   "cell_type": "code",
   "execution_count": 54,
   "id": "d9f7f13b-6989-49fc-99ca-fb7f4883e32a",
   "metadata": {},
   "outputs": [
    {
     "name": "stdout",
     "output_type": "stream",
     "text": [
      "[4, 16, 25, 49]\n"
     ]
    }
   ],
   "source": [
    "l = [2,4,5,7]\n",
    "\n",
    "lst =[]\n",
    "for ele in l:\n",
    "    lst.append(ele**2)\n",
    "\n",
    "print(lst)"
   ]
  },
  {
   "cell_type": "code",
   "execution_count": 56,
   "id": "f2dde08a-dabd-46ca-b5fc-4c2b8ab71a61",
   "metadata": {},
   "outputs": [
    {
     "data": {
      "text/plain": [
       "[4, 16, 25, 49, 121, 81]"
      ]
     },
     "execution_count": 56,
     "metadata": {},
     "output_type": "execute_result"
    }
   ],
   "source": [
    "l = [2,4,5,7,11,9]\n",
    "[ele**2 for ele in l]"
   ]
  },
  {
   "cell_type": "code",
   "execution_count": 57,
   "id": "4945cb37-0672-4804-94a2-ab0e0046ac5a",
   "metadata": {},
   "outputs": [
    {
     "name": "stdin",
     "output_type": "stream",
     "text": [
      "Enter the number:: 5\n"
     ]
    },
    {
     "name": "stdout",
     "output_type": "stream",
     "text": [
      "[1, 4, 9, 16, 25]\n"
     ]
    }
   ],
   "source": [
    "n = int(input(\"Enter the number::\"))\n",
    "sq_lst = []\n",
    "for num in range(1,n+1):\n",
    "    sq_lst.append(num**2)\n",
    "\n",
    "print(sq_lst)\n"
   ]
  },
  {
   "cell_type": "code",
   "execution_count": 59,
   "id": "f5d5d11c-494d-4ea8-bf5a-0dbabd741b4a",
   "metadata": {},
   "outputs": [
    {
     "name": "stdin",
     "output_type": "stream",
     "text": [
      "Enter the number:: 5\n"
     ]
    }
   ],
   "source": [
    "n = int(input(\"Enter the number::\"))\n",
    "square=[num**2 for num in range(1,n+1)]"
   ]
  },
  {
   "cell_type": "code",
   "execution_count": 60,
   "id": "e4e5ea69-1e18-477b-a92a-2f2737647572",
   "metadata": {},
   "outputs": [
    {
     "data": {
      "text/plain": [
       "[1, 4, 9, 16, 25]"
      ]
     },
     "execution_count": 60,
     "metadata": {},
     "output_type": "execute_result"
    }
   ],
   "source": [
    "square"
   ]
  },
  {
   "cell_type": "code",
   "execution_count": 61,
   "id": "2e39d139-df5c-4ea2-b95f-555e000664fa",
   "metadata": {},
   "outputs": [
    {
     "name": "stdout",
     "output_type": "stream",
     "text": [
      "[2, 4]\n"
     ]
    }
   ],
   "source": [
    "l = [2,4,5,7]\n",
    "\n",
    "lst =[]\n",
    "for ele in l:\n",
    "    if ele%2==0:\n",
    "        lst.append(ele)\n",
    "\n",
    "print(lst)"
   ]
  },
  {
   "cell_type": "code",
   "execution_count": 64,
   "id": "cbfb0677-328e-44e0-aeb4-f5ed85ca5fd0",
   "metadata": {},
   "outputs": [
    {
     "data": {
      "text/plain": [
       "[5, 7]"
      ]
     },
     "execution_count": 64,
     "metadata": {},
     "output_type": "execute_result"
    }
   ],
   "source": [
    "[ele for ele in l if ele%2!=0]"
   ]
  },
  {
   "cell_type": "code",
   "execution_count": 65,
   "id": "7950807c-9019-49b5-bf1c-de978dc21ac2",
   "metadata": {},
   "outputs": [
    {
     "name": "stdout",
     "output_type": "stream",
     "text": [
      "[4, 16, 125, 343]\n"
     ]
    }
   ],
   "source": [
    "l = [2,4,5,7]\n",
    "\n",
    "lst =[]\n",
    "for ele in l:\n",
    "    if ele%2==0:\n",
    "        lst.append(ele**2)\n",
    "    else:\n",
    "        lst.append(ele**3)\n",
    "\n",
    "print(lst)"
   ]
  },
  {
   "cell_type": "code",
   "execution_count": 76,
   "id": "8860c170-bb28-4d78-9fba-c1b147e48155",
   "metadata": {},
   "outputs": [],
   "source": [
    "l = [2,4,5,7]\n",
    "\n",
    "s=[ele**2 if ele%2==0 else ele**3 for ele in l]"
   ]
  },
  {
   "cell_type": "code",
   "execution_count": 77,
   "id": "5a4c5f76-4156-45ef-a564-aec805ff51b4",
   "metadata": {},
   "outputs": [
    {
     "data": {
      "text/plain": [
       "[4, 16, 125, 343]"
      ]
     },
     "execution_count": 77,
     "metadata": {},
     "output_type": "execute_result"
    }
   ],
   "source": [
    "s"
   ]
  },
  {
   "cell_type": "code",
   "execution_count": 78,
   "id": "e7075b8f-0e53-4cb1-8c67-acd48e4f63e7",
   "metadata": {},
   "outputs": [
    {
     "data": {
      "text/plain": [
       "list"
      ]
     },
     "execution_count": 78,
     "metadata": {},
     "output_type": "execute_result"
    }
   ],
   "source": [
    "type(s)"
   ]
  },
  {
   "cell_type": "code",
   "execution_count": 79,
   "id": "3432de4a-510a-4b6f-a36b-b047d622d5ef",
   "metadata": {},
   "outputs": [
    {
     "data": {
      "text/plain": [
       "[30, 60, 90, 40, 80, 120, 50, 100, 150, 60, 120, 180]"
      ]
     },
     "execution_count": 79,
     "metadata": {},
     "output_type": "execute_result"
    }
   ],
   "source": [
    "lst1 = [3,4,5,6]\n",
    "lst2 = [10,20,30]\n",
    "lst3 = []\n",
    "for x in lst1:\n",
    "    for y in lst2:\n",
    "        lst3.append(x*y)\n",
    "\n",
    "lst3"
   ]
  },
  {
   "cell_type": "code",
   "execution_count": 80,
   "id": "07f49f8a-0430-4df4-813c-0ce871ab6a6e",
   "metadata": {},
   "outputs": [
    {
     "data": {
      "text/plain": [
       "[30, 60, 90, 40, 80, 120, 50, 100, 150, 60, 120, 180]"
      ]
     },
     "execution_count": 80,
     "metadata": {},
     "output_type": "execute_result"
    }
   ],
   "source": [
    "lst1 = [3,4,5,6]\n",
    "lst2 = [10,20,30]\n",
    "[x*y for x in lst1 for y in lst2]"
   ]
  },
  {
   "cell_type": "code",
   "execution_count": 82,
   "id": "8cc37b93-8d5b-47ba-a7f8-7ae674663d7b",
   "metadata": {},
   "outputs": [
    {
     "data": {
      "text/plain": [
       "[60, 90, 80, 120, 100, 150, 120, 180]"
      ]
     },
     "execution_count": 82,
     "metadata": {},
     "output_type": "execute_result"
    }
   ],
   "source": [
    "lst1 = [3,4,5,6]\n",
    "lst2 = [10,20,30]\n",
    "lst3 = []\n",
    "for x in lst1:\n",
    "    for y in lst2:\n",
    "        if y>10:\n",
    "            lst3.append(x*y)\n",
    "\n",
    "lst3"
   ]
  },
  {
   "cell_type": "code",
   "execution_count": 83,
   "id": "9f3b9fc4-087b-4dab-92c3-49f5804b2226",
   "metadata": {},
   "outputs": [
    {
     "data": {
      "text/plain": [
       "[60, 90, 80, 120, 100, 150, 120, 180]"
      ]
     },
     "execution_count": 83,
     "metadata": {},
     "output_type": "execute_result"
    }
   ],
   "source": [
    "[x*y for x in lst1 for y in lst2 if y>10]"
   ]
  },
  {
   "cell_type": "code",
   "execution_count": 84,
   "id": "e0319bf1-d9ad-4729-b3b3-228a7a16f7ed",
   "metadata": {},
   "outputs": [
    {
     "data": {
      "text/plain": [
       "[3, 60, 90, 4, 80, 120, 5, 100, 150, 6, 120, 180]"
      ]
     },
     "execution_count": 84,
     "metadata": {},
     "output_type": "execute_result"
    }
   ],
   "source": [
    "lst1 = [3,4,5,6]\n",
    "lst2 = [10,20,30]\n",
    "lst3 = []\n",
    "for x in lst1:\n",
    "    for y in lst2:\n",
    "        if y>10:\n",
    "            lst3.append(x*y)\n",
    "        else:\n",
    "            lst3.append(x)\n",
    "\n",
    "lst3"
   ]
  },
  {
   "cell_type": "code",
   "execution_count": 85,
   "id": "31ed8b57-aa17-4911-8d28-610f78ad75b6",
   "metadata": {},
   "outputs": [
    {
     "data": {
      "text/plain": [
       "[3, 60, 90, 4, 80, 120, 5, 100, 150, 6, 120, 180]"
      ]
     },
     "execution_count": 85,
     "metadata": {},
     "output_type": "execute_result"
    }
   ],
   "source": [
    "[x*y if y>10 else x for x in lst1 for y in lst2]"
   ]
  },
  {
   "cell_type": "raw",
   "id": "70a5c8c5-e8bc-4e67-8140-c5049f74b7d8",
   "metadata": {},
   "source": [
    "Given a list of words ['Python', 'List', 'Comprehension', 'Examples'], create a list of their lengths using list comprehension."
   ]
  },
  {
   "cell_type": "code",
   "execution_count": 86,
   "id": "99db8f10-7c21-45b2-902d-5abfcbea6046",
   "metadata": {},
   "outputs": [
    {
     "name": "stdout",
     "output_type": "stream",
     "text": [
      "[6, 4, 13, 8]\n"
     ]
    }
   ],
   "source": [
    "lst = ['Python', 'List', 'Comprehension', 'Examples', 'Tuple']\n",
    "len_lst = []\n",
    "for ele in lst:\n",
    "    len_lst.append(len(ele))\n",
    "\n",
    "print(len_lst)"
   ]
  },
  {
   "cell_type": "code",
   "execution_count": 88,
   "id": "a7f3bd28-3320-4ad6-af56-74120169c976",
   "metadata": {},
   "outputs": [
    {
     "data": {
      "text/plain": [
       "[6, 4, 13, 8, 5]"
      ]
     },
     "execution_count": 88,
     "metadata": {},
     "output_type": "execute_result"
    }
   ],
   "source": [
    "lst = ['Python', 'List', 'Comprehension', 'Examples', 'Tuple']\n",
    "[len(ele) for ele in lst]"
   ]
  },
  {
   "cell_type": "raw",
   "id": "772420d5-6cdd-46a4-a081-1975eb31363b",
   "metadata": {},
   "source": [
    "Flatten the nested list [[1, 2, 3], [4, 5], [6, 7, 8, 9]] into a single list using list comprehension.\n",
    "o/p:[1,2,3,4,5,6,7,8,9]"
   ]
  },
  {
   "cell_type": "code",
   "execution_count": 91,
   "id": "a8b0f8e2-2710-4de6-b952-b32689004fc9",
   "metadata": {},
   "outputs": [
    {
     "data": {
      "text/plain": [
       "[1, 2, 3, 4, 5, 6, 7, 8, 9]"
      ]
     },
     "execution_count": 91,
     "metadata": {},
     "output_type": "execute_result"
    }
   ],
   "source": [
    "lst=[[1, 2, 3], [4, 5], [6, 7, 8, 9]]\n",
    "output =[]\n",
    "for l in lst:\n",
    "    for ele in l:\n",
    "        output.append(ele)\n",
    "\n",
    "output"
   ]
  },
  {
   "cell_type": "code",
   "execution_count": 92,
   "id": "db7a5fa3-e412-4f2b-8fc0-07d0567c3e53",
   "metadata": {},
   "outputs": [
    {
     "data": {
      "text/plain": [
       "[1, 2, 3, 4, 5, 6, 7, 8, 9]"
      ]
     },
     "execution_count": 92,
     "metadata": {},
     "output_type": "execute_result"
    }
   ],
   "source": [
    "[ele for l in lst for ele in l]"
   ]
  },
  {
   "cell_type": "raw",
   "id": "f0e042cf-7047-48cc-a01e-c5aa186353fb",
   "metadata": {},
   "source": [
    "Given a string 'abc123def45gh', extract all the digits as integers using list comprehension."
   ]
  },
  {
   "cell_type": "code",
   "execution_count": 99,
   "id": "1e5c8180-108a-4d97-8b30-406933311bc2",
   "metadata": {},
   "outputs": [
    {
     "data": {
      "text/plain": [
       "['a', 'b', 'c', 'd', 'e', 'f', 'g', 'h']"
      ]
     },
     "execution_count": 99,
     "metadata": {},
     "output_type": "execute_result"
    }
   ],
   "source": [
    "s = 'abc123def45gh'\n",
    "lst = []\n",
    "for ch in s:\n",
    "    if ch.isalpha():\n",
    "        lst.append(ch)\n",
    "\n",
    "lst"
   ]
  },
  {
   "cell_type": "code",
   "execution_count": 98,
   "id": "f0e4b39e-32bd-4f7a-9e3f-91ff1f254ddb",
   "metadata": {},
   "outputs": [
    {
     "data": {
      "text/plain": [
       "[0, 1, 1, 2, 3, 4, 5, 8]"
      ]
     },
     "execution_count": 98,
     "metadata": {},
     "output_type": "execute_result"
    }
   ],
   "source": [
    "s = 'abc1238d10ef45gh'\n",
    "lst =[int(ch) for ch in s if ch.isnumeric()]\n",
    "lst.sort()\n",
    "lst"
   ]
  },
  {
   "cell_type": "code",
   "execution_count": 105,
   "id": "377080cb-79f0-409c-b9d5-44a747b80144",
   "metadata": {},
   "outputs": [
    {
     "name": "stdout",
     "output_type": "stream",
     "text": [
      "[3, 0, 8, 0, 9, 0]\n",
      "[3, 7, 8, 7, 9, 7]\n"
     ]
    }
   ],
   "source": [
    "# Replace all occurrences of a specific value, say 7, with 0 in the list [3, 7, 8, 7, 9, 7] using list comprehension.\n",
    "lst=[3, 7, 8, 7, 9, 7]\n",
    "l = []\n",
    "for i in range(len(lst)):\n",
    "    if lst[i]==7:\n",
    "        l.append(0)\n",
    "    else:\n",
    "        l.append(lst[i])\n",
    "\n",
    "print(l)\n",
    "print(lst)"
   ]
  },
  {
   "cell_type": "code",
   "execution_count": 106,
   "id": "01ade51a-942f-4610-9fa5-29d66ed513eb",
   "metadata": {},
   "outputs": [
    {
     "data": {
      "text/plain": [
       "[3, 0, 8, 0, 9, 0]"
      ]
     },
     "execution_count": 106,
     "metadata": {},
     "output_type": "execute_result"
    }
   ],
   "source": [
    "[0 if lst[i]==7 else lst[i] for i in range(len(lst))]"
   ]
  },
  {
   "cell_type": "raw",
   "id": "904c672c-e0da-41b5-a5ce-a8036cb5d219",
   "metadata": {},
   "source": [
    "## 14. Nested Conditional Comprehension\n",
    "For a list of integers nums = [10, 15, 20, 25, 30], create a new list where:\n",
    "\n",
    "Numbers divisible by 3 are replaced with 'Fizz'.\n",
    "Numbers divisible by 5 are replaced with 'Buzz'.\n",
    "Numbers divisible by both 3 and 5 are replaced with 'FizzBuzz'.\n",
    "Other numbers remain unchanged."
   ]
  },
  {
   "cell_type": "code",
   "execution_count": 108,
   "id": "c2fc584c-7eee-4b17-b41d-6acffceac4d9",
   "metadata": {},
   "outputs": [
    {
     "data": {
      "text/plain": [
       "['Buzz', 'Fizz', 'Buzz', 'Buzz', 'Fizz', 11]"
      ]
     },
     "execution_count": 108,
     "metadata": {},
     "output_type": "execute_result"
    }
   ],
   "source": [
    "nums = [10, 15, 20, 25, 30,11]\n",
    "lst=[]\n",
    "for ele in nums:\n",
    "    if ele%3==0:\n",
    "        lst.append(\"Fizz\")\n",
    "    elif ele%5==0:\n",
    "        lst.append(\"Buzz\")\n",
    "    elif ele%3==0 and ele%5==0:\n",
    "        lst.append(\"FizzBuzz\")\n",
    "    else:\n",
    "        lst.append(ele)\n",
    "\n",
    "lst"
   ]
  },
  {
   "cell_type": "code",
   "execution_count": 109,
   "id": "520a9cc0-d476-4627-bae1-4acd31197c09",
   "metadata": {},
   "outputs": [
    {
     "data": {
      "text/plain": [
       "['Buzz', 'Fizz', 'Buzz', 'Buzz', 'Fizz', 11]"
      ]
     },
     "execution_count": 109,
     "metadata": {},
     "output_type": "execute_result"
    }
   ],
   "source": [
    "[\"Fizz\" if ele%3==0 else \"Buzz\" if ele%5==0 else \"FizzBuzz\" if (ele%3==0 and ele%5==0) else ele for ele in nums]"
   ]
  },
  {
   "cell_type": "code",
   "execution_count": null,
   "id": "9a5142a2-2cc0-425d-832d-978ed0e0f6b1",
   "metadata": {},
   "outputs": [],
   "source": []
  }
 ],
 "metadata": {
  "kernelspec": {
   "display_name": "Python 3 (ipykernel)",
   "language": "python",
   "name": "python3"
  },
  "language_info": {
   "codemirror_mode": {
    "name": "ipython",
    "version": 3
   },
   "file_extension": ".py",
   "mimetype": "text/x-python",
   "name": "python",
   "nbconvert_exporter": "python",
   "pygments_lexer": "ipython3",
   "version": "3.12.4"
  }
 },
 "nbformat": 4,
 "nbformat_minor": 5
}
